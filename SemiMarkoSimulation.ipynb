{
 "cells": [
  {
   "cell_type": "code",
   "execution_count": 14,
   "id": "679d4afc",
   "metadata": {},
   "outputs": [
    {
     "name": "stdout",
     "output_type": "stream",
     "text": [
      "   Subject  Start_Time From   To  Sojourn_Time  Censored\n",
      "0        0    0.000000   CN   CN      4.685867         1\n",
      "1        0    4.685867   CN   CN      5.314133         0\n",
      "2        1    0.000000   CN   CN      0.371870         1\n",
      "3        1    0.371870   CN  MCI      8.096251         1\n",
      "4        1    8.468121  MCI  MCI      0.106495         1\n"
     ]
    }
   ],
   "source": [
    "import numpy as np\n",
    "import pandas as pd\n",
    "\n",
    "M = 100  # кількість суб'єктів\n",
    "Tmax = 10  # максимальний час спостереження\n",
    "states = ['CN', 'MCI', 'AD', 'Death']\n",
    "\n",
    "# Перехідні ймовірності\n",
    "transition_probs = {\n",
    "    'CN': [0.6, 0.3, 0.1, 0.0],\n",
    "    'MCI': [0.1, 0.5, 0.3, 0.1],\n",
    "    'AD': [0.0, 0.1, 0.6, 0.3],\n",
    "    'Death': [0.0, 0.0, 0.0, 1.0]\n",
    "}\n",
    "\n",
    "# Базові інтенсивності переходу\n",
    "lambda_0 = {\n",
    "    'CN': 0.5,\n",
    "    'MCI': 0.3,\n",
    "    'AD': 0.2\n",
    "}\n",
    "\n",
    "# Функція для генерації наступного стану\n",
    "def sample_next_state(current):\n",
    "    return np.random.choice(states, p=transition_probs[current])\n",
    "\n",
    "# Функція для генерації часу перебування\n",
    "def generate_sojourn_time(current_state, Z):\n",
    "    lam = lambda_0.get(current_state, 1.0)\n",
    "    rate = lam * np.exp(Z)  # експоненційна інтенсивність\n",
    "    u = np.random.uniform(0, 1)\n",
    "    return -np.log(1 - u) / rate\n",
    "\n",
    "# Основний алгоритм\n",
    "records = []\n",
    "for m in range(M):\n",
    "    t = 0\n",
    "    n = 0\n",
    "    state = 'CN'\n",
    "    Z_m = { (i,j): np.random.normal(0, 1) for i in states for j in states if i != 'Death' and j != i }\n",
    "    \n",
    "    while t < Tmax and state != 'Death':\n",
    "        current_state = state\n",
    "        Z = Z_m.get((current_state, sample_next_state(current_state)), 0)\n",
    "        W = generate_sojourn_time(current_state, Z)\n",
    "        \n",
    "        if t + W > Tmax:\n",
    "            W = Tmax - t\n",
    "            censored = 0\n",
    "            next_state = current_state  # залишаємося в поточному стані через цензурування\n",
    "        else:\n",
    "            censored = 1\n",
    "            next_state = sample_next_state(current_state)\n",
    "        \n",
    "        records.append({\n",
    "            'Subject': m,\n",
    "            'Start_Time': round(t, 6),\n",
    "            'From': current_state,\n",
    "            'To': next_state,\n",
    "            'Sojourn_Time': round(W, 6),\n",
    "            'Censored': censored\n",
    "        })\n",
    "        t += W\n",
    "        state = next_state\n",
    "        n += 1\n",
    "\n",
    "# Перетворення в DataFrame\n",
    "sim_data = pd.DataFrame(records)\n",
    "print(sim_data.head())"
   ]
  }
 ],
 "metadata": {
  "kernelspec": {
   "display_name": "Python 3",
   "language": "python",
   "name": "python3"
  },
  "language_info": {
   "codemirror_mode": {
    "name": "ipython",
    "version": 3
   },
   "file_extension": ".py",
   "mimetype": "text/x-python",
   "name": "python",
   "nbconvert_exporter": "python",
   "pygments_lexer": "ipython3",
   "version": "3.9.13"
  }
 },
 "nbformat": 4,
 "nbformat_minor": 5
}
